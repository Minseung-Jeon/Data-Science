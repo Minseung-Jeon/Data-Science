{
 "cells": [
  {
   "cell_type": "markdown",
   "id": "86b232a1",
   "metadata": {},
   "source": [
    "# Lab 10: NLP - Classification"
   ]
  },
  {
   "cell_type": "code",
   "execution_count": 1,
   "id": "17af2ac2",
   "metadata": {},
   "outputs": [
    {
     "name": "stdout",
     "output_type": "stream",
     "text": [
      "Accuracy: 0.775\n",
      "Precision: 0.7851239669421488\n",
      "Recall: 0.8333333333333334\n",
      "F1-Score: 0.8085106382978725\n"
     ]
    }
   ],
   "source": [
    "import pandas as pd\n",
    "from sklearn.feature_extraction.text import CountVectorizer\n",
    "from sklearn.model_selection import train_test_split\n",
    "from sklearn.ensemble import RandomForestClassifier\n",
    "from sklearn.metrics import accuracy_score, precision_score, recall_score, f1_score\n",
    "from nltk.tokenize import word_tokenize\n",
    "from nltk.stem import PorterStemmer, WordNetLemmatizer\n",
    "\n",
    "# Load dataset\n",
    "data = pd.read_csv('musical1.tsv', sep='\\t')\n",
    "# Extract reviews and scores\n",
    "reviews = data['Review']\n",
    "scores = data['Score']\n",
    "\n",
    "# Function to tokenize a review\n",
    "def tokenizeReviews(review):\n",
    "    return word_tokenize(review.lower())\n",
    "\n",
    "# Tokenizing all reviews\n",
    "tokenized_reviews = reviews.apply(tokenizeReviews)\n",
    "\n",
    "# Porter Stemmer\n",
    "porterStemmer = PorterStemmer()\n",
    "\n",
    "# Function to stem tokens for all reviews\n",
    "def stemReviews(tokenizedReviews):\n",
    "    return [porterStemmer.stem(token) for token in tokenizedReviews]\n",
    "\n",
    "# Stemming all tokens in all reviews\n",
    "stemmed_reviews = tokenized_reviews.apply(stemReviews)\n",
    "\n",
    "# Lemmatization\n",
    "lemmatizer = WordNetLemmatizer()\n",
    "\n",
    "# Function to lemmatize reviews\n",
    "def lemmatizeReviews(stemmedReviews):\n",
    "    return [lemmatizer.lemmatize(token) for token in stemmedReviews]\n",
    "\n",
    "# Lemmatize stemmed reviews\n",
    "lemmatized_reviews = stemmed_reviews.apply(lemmatizeReviews)\n",
    "\n",
    "# Vectorization\n",
    "vectorizer = CountVectorizer()\n",
    "vectorized = vectorizer.fit_transform(lemmatized_reviews.apply(' '.join))\n",
    "\n",
    "# Splitting the data\n",
    "X_train, X_test, y_train, y_test = train_test_split(vectorized, scores, test_size=0.2, random_state=42)\n",
    "\n",
    "# Building Random Forest model\n",
    "forest_model = RandomForestClassifier()\n",
    "forest_model.fit(X_train, y_train)\n",
    "\n",
    "# Predictions\n",
    "y_pred = forest_model.predict(X_test)\n",
    "\n",
    "# Evaluation\n",
    "accuracy = accuracy_score(y_test, y_pred)\n",
    "precision = precision_score(y_test, y_pred)\n",
    "recall = recall_score(y_test, y_pred)\n",
    "f1 = f1_score(y_test, y_pred)\n",
    "\n",
    "print(f\"Accuracy: {accuracy}\")\n",
    "print(f\"Precision: {precision}\")\n",
    "print(f\"Recall: {recall}\")\n",
    "print(f\"F1-Score: {f1}\")\n",
    "\n"
   ]
  },
  {
   "cell_type": "code",
   "execution_count": null,
   "id": "5fad5f41",
   "metadata": {},
   "outputs": [],
   "source": []
  }
 ],
 "metadata": {
  "kernelspec": {
   "display_name": "Python 3 (ipykernel)",
   "language": "python",
   "name": "python3"
  },
  "language_info": {
   "codemirror_mode": {
    "name": "ipython",
    "version": 3
   },
   "file_extension": ".py",
   "mimetype": "text/x-python",
   "name": "python",
   "nbconvert_exporter": "python",
   "pygments_lexer": "ipython3",
   "version": "3.11.5"
  }
 },
 "nbformat": 4,
 "nbformat_minor": 5
}
