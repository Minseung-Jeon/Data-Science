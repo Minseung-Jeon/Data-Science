{
 "cells": [
  {
   "cell_type": "code",
   "execution_count": 1,
   "id": "b879ad0e",
   "metadata": {},
   "outputs": [
    {
     "name": "stdout",
     "output_type": "stream",
     "text": [
      "(Q1) Gini Accuracy:  0.935\n",
      "(Q3) Gini Accuracy with max detph 3:  0.955\n",
      "(Q5) Entropy Accuracy:  0.94\n",
      "The closer the accuracy is to 0, the more pure (accurate) decision tree is.\n",
      "Decision tree with gini accuracy is the most accurate.\n",
      "Decision tree with Entropy accuracy is the second most accurate.\n",
      "Decision tree with gini accraucy that is max depth of 3 is the least accurate.\n",
      "please refer to the attached and generated pdf file to see the decision tree graph.\n"
     ]
    }
   ],
   "source": [
    "import numpy as np\n",
    "import pandas as pd\n",
    "import graphviz\n",
    "import pydotplus\n",
    "\n",
    "from IPython.display import Image \n",
    "from sklearn.datasets import make_classification\n",
    "from sklearn.model_selection import train_test_split\n",
    "from sklearn.tree import DecisionTreeClassifier, export_graphviz\n",
    "from sklearn.metrics import accuracy_score\n",
    "\n",
    "#fetching the data\n",
    "dp = pd.read_csv('processed.cleveland.data')\n",
    "\n",
    "#classification\n",
    "X, Y = make_classification(n_samples=1000, n_features=14, n_classes=2, n_clusters_per_class=1, random_state=42)\n",
    "\n",
    "#training 20%\n",
    "X_train, X_test, Y_train, Y_test = train_test_split(X, Y, test_size=0.2, random_state=42)\n",
    "\n",
    "#Q1 & Q2 \n",
    "clf = DecisionTreeClassifier(criterion = \"gini\", random_state=42)\n",
    "clf.fit(X_train, Y_train)\n",
    "\n",
    "Y_pred = clf.predict(X_test)\n",
    "\n",
    "accuracy = accuracy_score(Y_test, Y_pred)\n",
    "print(\"(Q1) Gini Accuracy: \", accuracy)\n",
    "\n",
    "my_feature_names = [\"age\", \"sex\", \"cp\", \"trestbps\", \"chol\", \"fbs\", \"restecg\", \"thalach\", \"exang\", \"oldpeak\", \"slope\", \"ca\", \"thal\", \"num\"]\n",
    "dot_data = export_graphviz(clf, out_file=None, feature_names=my_feature_names, class_names=['Class 0', 'Class 1'], filled=True, rounded=True, special_characters=True)\n",
    "graph = graphviz.Source(dot_data)\n",
    "graph.render(\"(Q2) Decision tree with Gini\")\n",
    "graph\n",
    "\n",
    "#Q3 & Q4\n",
    "clf = DecisionTreeClassifier(criterion = \"gini\", max_depth= 3, random_state=42)\n",
    "clf.fit(X_train, Y_train)\n",
    "\n",
    "Y_pred = clf.predict(X_test)\n",
    "\n",
    "accuracy = accuracy_score(Y_test, Y_pred)\n",
    "print(\"(Q3) Gini Accuracy with max detph 3: \", accuracy)\n",
    "\n",
    "my_feature_names = [\"age\", \"sex\", \"cp\", \"trestbps\", \"chol\", \"fbs\", \"restecg\", \"thalach\", \"exang\", \"oldpeak\", \"slope\", \"ca\", \"thal\", \"num\"]\n",
    "dot_data = export_graphviz(clf, out_file=None, feature_names=my_feature_names, class_names=['Class 0', 'Class 1'], filled=True, rounded=True, special_characters=True)\n",
    "graph = graphviz.Source(dot_data)\n",
    "graph.render(\"(Q4) Decision Tree with gini that is max depth 3\")\n",
    "graph\n",
    "\n",
    "#Q5 & Q6\n",
    "clf = DecisionTreeClassifier(criterion = \"entropy\", random_state=42)\n",
    "clf.fit(X_train, Y_train)\n",
    "\n",
    "Y_pred = clf.predict(X_test)\n",
    "\n",
    "accuracy = accuracy_score(Y_test, Y_pred)\n",
    "print(\"(Q5) Entropy Accuracy: \", accuracy)\n",
    "\n",
    "my_feature_names = [\"age\", \"sex\", \"cp\", \"trestbps\", \"chol\", \"fbs\", \"restecg\", \"thalach\", \"exang\", \"oldpeak\", \"slope\", \"ca\", \"thal\", \"num\"]\n",
    "dot_data = export_graphviz(clf, out_file=None, feature_names=my_feature_names, class_names=['Class 0', 'Class 1'], filled=True, rounded=True, special_characters=True)\n",
    "graph = graphviz.Source(dot_data)\n",
    "graph.render(\"(Q6) Decision tree with Entropy\")\n",
    "graph\n",
    "\n",
    "print(\"The closer the accuracy is to 0, the more pure (accurate) decision tree is.\")\n",
    "print(\"Decision tree with gini accuracy is the most accurate.\")\n",
    "print(\"Decision tree with Entropy accuracy is the second most accurate.\")\n",
    "print(\"Decision tree with gini accraucy that is max depth of 3 is the least accurate.\")\n",
    "\n",
    "print(\"please refer to the attached and generated pdf file to see the decision tree graph.\")"
   ]
  },
  {
   "cell_type": "code",
   "execution_count": null,
   "id": "32edabd6",
   "metadata": {},
   "outputs": [],
   "source": []
  }
 ],
 "metadata": {
  "kernelspec": {
   "display_name": "Python 3 (ipykernel)",
   "language": "python",
   "name": "python3"
  },
  "language_info": {
   "codemirror_mode": {
    "name": "ipython",
    "version": 3
   },
   "file_extension": ".py",
   "mimetype": "text/x-python",
   "name": "python",
   "nbconvert_exporter": "python",
   "pygments_lexer": "ipython3",
   "version": "3.11.5"
  }
 },
 "nbformat": 4,
 "nbformat_minor": 5
}
