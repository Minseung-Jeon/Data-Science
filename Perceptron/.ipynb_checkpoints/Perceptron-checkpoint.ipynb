{
 "cells": [
  {
   "cell_type": "markdown",
   "id": "df6fbca3",
   "metadata": {},
   "source": [
    "# Perceptron"
   ]
  },
  {
   "cell_type": "code",
   "execution_count": 3,
   "id": "e533f9eb",
   "metadata": {},
   "outputs": [
    {
     "name": "stdout",
     "output_type": "stream",
     "text": [
      "AND Function Predictions:\n",
      "0 AND 0: [0]\n",
      "0 AND 1: [0]\n",
      "1 AND 0: [0]\n",
      "1 AND 1: [1]\n",
      "OR Function Predictions:\n",
      "0 AND 0: [0]\n",
      "0 AND 1: [1]\n",
      "1 AND 0: [1]\n",
      "1 AND 1: [1]\n"
     ]
    }
   ],
   "source": [
    "import warnings\n",
    "warnings.filterwarnings(\"ignore\")\n",
    "\n",
    "from sklearn.neural_network import MLPClassifier\n",
    "import numpy as np\n",
    "\n",
    "# Dataset for AND function\n",
    "X_and = np.array([[0,0], [0,1], [1,0], [1,1]])\n",
    "Y_and = np.array([0,0,0,1])\n",
    "\n",
    "# Dataset for OR function\n",
    "X_or = np.array([[0,0], [0,1], [1,0], [1,1]])\n",
    "Y_or = np.array([0,1,1,1])\n",
    "\n",
    "# Creating classifiers\n",
    "and_nn = MLPClassifier()\n",
    "or_nn = MLPClassifier()\n",
    "\n",
    "# Fitting the data\n",
    "and_nn.fit(X_and, Y_and)\n",
    "or_nn.fit(X_or, Y_or)\n",
    "\n",
    "# Predicting results\n",
    "print(\"AND Function Predictions:\")\n",
    "print(\"0 AND 0:\", and_nn.predict([[0, 0]]))\n",
    "print(\"0 AND 1:\", and_nn.predict([[0, 1]]))\n",
    "print(\"1 AND 0:\", and_nn.predict([[1, 0]]))\n",
    "print(\"1 AND 1:\", and_nn.predict([[1, 1]]))\n",
    "print(\"OR Function Predictions:\")\n",
    "print(\"0 AND 0:\", or_nn.predict([[0, 0]]))\n",
    "print(\"0 AND 1:\", or_nn.predict([[0, 1]]))\n",
    "print(\"1 AND 0:\", or_nn.predict([[1, 0]]))\n",
    "print(\"1 AND 1:\", or_nn.predict([[1, 1]]))\n",
    "\n",
    "\n"
   ]
  },
  {
   "cell_type": "code",
   "execution_count": null,
   "id": "2ae7be60",
   "metadata": {},
   "outputs": [],
   "source": []
  }
 ],
 "metadata": {
  "kernelspec": {
   "display_name": "Python 3 (ipykernel)",
   "language": "python",
   "name": "python3"
  },
  "language_info": {
   "codemirror_mode": {
    "name": "ipython",
    "version": 3
   },
   "file_extension": ".py",
   "mimetype": "text/x-python",
   "name": "python",
   "nbconvert_exporter": "python",
   "pygments_lexer": "ipython3",
   "version": "3.11.5"
  }
 },
 "nbformat": 4,
 "nbformat_minor": 5
}
